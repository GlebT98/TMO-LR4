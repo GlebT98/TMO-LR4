{
  "nbformat": 4,
  "nbformat_minor": 0,
  "metadata": {
    "colab": {
      "name": "LR4.ipynb",
      "provenance": []
    },
    "kernelspec": {
      "name": "python3",
      "display_name": "Python 3"
    }
  },
  "cells": [
    {
      "cell_type": "code",
      "metadata": {
        "id": "rQSe9emKQbfC",
        "colab_type": "code",
        "colab": {}
      },
      "source": [
        "import numpy as np\n",
        "import pandas as pd\n",
        "\n",
        "from typing import Dict, Tuple\n",
        "from scipy import stats\n",
        "from sklearn.datasets import load_wine\n",
        "from sklearn.model_selection import train_test_split, cross_val_score, cross_validate, GridSearchCV\n",
        "from sklearn.neighbors import KNeighborsRegressor, KNeighborsClassifier\n",
        "from sklearn.metrics import *\n",
        "\n",
        "import seaborn as sns\n",
        "import matplotlib.pyplot as plt\n",
        "%matplotlib inline\n",
        "sns.set(style=\"ticks\")"
      ],
      "execution_count": 0,
      "outputs": []
    },
    {
      "cell_type": "code",
      "metadata": {
        "id": "p_ntIpfjZULL",
        "colab_type": "code",
        "colab": {}
      },
      "source": [
        "wine = load_wine()"
      ],
      "execution_count": 0,
      "outputs": []
    },
    {
      "cell_type": "code",
      "metadata": {
        "id": "DU5_qzHJZb29",
        "colab_type": "code",
        "colab": {
          "base_uri": "https://localhost:8080/",
          "height": 243
        },
        "outputId": "55364276-1624-4f3c-f752-9552df52f8d9"
      },
      "source": [
        "#наименование признаков\n",
        "wine.feature_names"
      ],
      "execution_count": 19,
      "outputs": [
        {
          "output_type": "execute_result",
          "data": {
            "text/plain": [
              "['alcohol',\n",
              " 'malic_acid',\n",
              " 'ash',\n",
              " 'alcalinity_of_ash',\n",
              " 'magnesium',\n",
              " 'total_phenols',\n",
              " 'flavanoids',\n",
              " 'nonflavanoid_phenols',\n",
              " 'proanthocyanins',\n",
              " 'color_intensity',\n",
              " 'hue',\n",
              " 'od280/od315_of_diluted_wines',\n",
              " 'proline']"
            ]
          },
          "metadata": {
            "tags": []
          },
          "execution_count": 19
        }
      ]
    },
    {
      "cell_type": "code",
      "metadata": {
        "id": "MQdyZxFybmzE",
        "colab_type": "code",
        "colab": {
          "base_uri": "https://localhost:8080/",
          "height": 35
        },
        "outputId": "7a4985f7-bfca-49f0-dd8e-4c0a85db65e9"
      },
      "source": [
        "#узнаем размер датасета\n",
        "wine.data.shape"
      ],
      "execution_count": 20,
      "outputs": [
        {
          "output_type": "execute_result",
          "data": {
            "text/plain": [
              "(178, 13)"
            ]
          },
          "metadata": {
            "tags": []
          },
          "execution_count": 20
        }
      ]
    },
    {
      "cell_type": "code",
      "metadata": {
        "id": "bYeUpzZzbxwT",
        "colab_type": "code",
        "colab": {}
      },
      "source": [
        "wine_df= pd.DataFrame(data=np.c_[wine['data'], wine['target']], columns = list(wine['feature_names']) + ['target'])"
      ],
      "execution_count": 0,
      "outputs": []
    },
    {
      "cell_type": "code",
      "metadata": {
        "id": "U0cvQ3fRcvUB",
        "colab_type": "code",
        "colab": {
          "base_uri": "https://localhost:8080/",
          "height": 314
        },
        "outputId": "d4c74d2b-1686-4f2e-cf3b-bd282de5fea8"
      },
      "source": [
        "wine_df.describe()"
      ],
      "execution_count": 22,
      "outputs": [
        {
          "output_type": "execute_result",
          "data": {
            "text/html": [
              "<div>\n",
              "<style scoped>\n",
              "    .dataframe tbody tr th:only-of-type {\n",
              "        vertical-align: middle;\n",
              "    }\n",
              "\n",
              "    .dataframe tbody tr th {\n",
              "        vertical-align: top;\n",
              "    }\n",
              "\n",
              "    .dataframe thead th {\n",
              "        text-align: right;\n",
              "    }\n",
              "</style>\n",
              "<table border=\"1\" class=\"dataframe\">\n",
              "  <thead>\n",
              "    <tr style=\"text-align: right;\">\n",
              "      <th></th>\n",
              "      <th>alcohol</th>\n",
              "      <th>malic_acid</th>\n",
              "      <th>ash</th>\n",
              "      <th>alcalinity_of_ash</th>\n",
              "      <th>magnesium</th>\n",
              "      <th>total_phenols</th>\n",
              "      <th>flavanoids</th>\n",
              "      <th>nonflavanoid_phenols</th>\n",
              "      <th>proanthocyanins</th>\n",
              "      <th>color_intensity</th>\n",
              "      <th>hue</th>\n",
              "      <th>od280/od315_of_diluted_wines</th>\n",
              "      <th>proline</th>\n",
              "      <th>target</th>\n",
              "    </tr>\n",
              "  </thead>\n",
              "  <tbody>\n",
              "    <tr>\n",
              "      <th>count</th>\n",
              "      <td>178.000000</td>\n",
              "      <td>178.000000</td>\n",
              "      <td>178.000000</td>\n",
              "      <td>178.000000</td>\n",
              "      <td>178.000000</td>\n",
              "      <td>178.000000</td>\n",
              "      <td>178.000000</td>\n",
              "      <td>178.000000</td>\n",
              "      <td>178.000000</td>\n",
              "      <td>178.000000</td>\n",
              "      <td>178.000000</td>\n",
              "      <td>178.000000</td>\n",
              "      <td>178.000000</td>\n",
              "      <td>178.000000</td>\n",
              "    </tr>\n",
              "    <tr>\n",
              "      <th>mean</th>\n",
              "      <td>13.000618</td>\n",
              "      <td>2.336348</td>\n",
              "      <td>2.366517</td>\n",
              "      <td>19.494944</td>\n",
              "      <td>99.741573</td>\n",
              "      <td>2.295112</td>\n",
              "      <td>2.029270</td>\n",
              "      <td>0.361854</td>\n",
              "      <td>1.590899</td>\n",
              "      <td>5.058090</td>\n",
              "      <td>0.957449</td>\n",
              "      <td>2.611685</td>\n",
              "      <td>746.893258</td>\n",
              "      <td>0.938202</td>\n",
              "    </tr>\n",
              "    <tr>\n",
              "      <th>std</th>\n",
              "      <td>0.811827</td>\n",
              "      <td>1.117146</td>\n",
              "      <td>0.274344</td>\n",
              "      <td>3.339564</td>\n",
              "      <td>14.282484</td>\n",
              "      <td>0.625851</td>\n",
              "      <td>0.998859</td>\n",
              "      <td>0.124453</td>\n",
              "      <td>0.572359</td>\n",
              "      <td>2.318286</td>\n",
              "      <td>0.228572</td>\n",
              "      <td>0.709990</td>\n",
              "      <td>314.907474</td>\n",
              "      <td>0.775035</td>\n",
              "    </tr>\n",
              "    <tr>\n",
              "      <th>min</th>\n",
              "      <td>11.030000</td>\n",
              "      <td>0.740000</td>\n",
              "      <td>1.360000</td>\n",
              "      <td>10.600000</td>\n",
              "      <td>70.000000</td>\n",
              "      <td>0.980000</td>\n",
              "      <td>0.340000</td>\n",
              "      <td>0.130000</td>\n",
              "      <td>0.410000</td>\n",
              "      <td>1.280000</td>\n",
              "      <td>0.480000</td>\n",
              "      <td>1.270000</td>\n",
              "      <td>278.000000</td>\n",
              "      <td>0.000000</td>\n",
              "    </tr>\n",
              "    <tr>\n",
              "      <th>25%</th>\n",
              "      <td>12.362500</td>\n",
              "      <td>1.602500</td>\n",
              "      <td>2.210000</td>\n",
              "      <td>17.200000</td>\n",
              "      <td>88.000000</td>\n",
              "      <td>1.742500</td>\n",
              "      <td>1.205000</td>\n",
              "      <td>0.270000</td>\n",
              "      <td>1.250000</td>\n",
              "      <td>3.220000</td>\n",
              "      <td>0.782500</td>\n",
              "      <td>1.937500</td>\n",
              "      <td>500.500000</td>\n",
              "      <td>0.000000</td>\n",
              "    </tr>\n",
              "    <tr>\n",
              "      <th>50%</th>\n",
              "      <td>13.050000</td>\n",
              "      <td>1.865000</td>\n",
              "      <td>2.360000</td>\n",
              "      <td>19.500000</td>\n",
              "      <td>98.000000</td>\n",
              "      <td>2.355000</td>\n",
              "      <td>2.135000</td>\n",
              "      <td>0.340000</td>\n",
              "      <td>1.555000</td>\n",
              "      <td>4.690000</td>\n",
              "      <td>0.965000</td>\n",
              "      <td>2.780000</td>\n",
              "      <td>673.500000</td>\n",
              "      <td>1.000000</td>\n",
              "    </tr>\n",
              "    <tr>\n",
              "      <th>75%</th>\n",
              "      <td>13.677500</td>\n",
              "      <td>3.082500</td>\n",
              "      <td>2.557500</td>\n",
              "      <td>21.500000</td>\n",
              "      <td>107.000000</td>\n",
              "      <td>2.800000</td>\n",
              "      <td>2.875000</td>\n",
              "      <td>0.437500</td>\n",
              "      <td>1.950000</td>\n",
              "      <td>6.200000</td>\n",
              "      <td>1.120000</td>\n",
              "      <td>3.170000</td>\n",
              "      <td>985.000000</td>\n",
              "      <td>2.000000</td>\n",
              "    </tr>\n",
              "    <tr>\n",
              "      <th>max</th>\n",
              "      <td>14.830000</td>\n",
              "      <td>5.800000</td>\n",
              "      <td>3.230000</td>\n",
              "      <td>30.000000</td>\n",
              "      <td>162.000000</td>\n",
              "      <td>3.880000</td>\n",
              "      <td>5.080000</td>\n",
              "      <td>0.660000</td>\n",
              "      <td>3.580000</td>\n",
              "      <td>13.000000</td>\n",
              "      <td>1.710000</td>\n",
              "      <td>4.000000</td>\n",
              "      <td>1680.000000</td>\n",
              "      <td>2.000000</td>\n",
              "    </tr>\n",
              "  </tbody>\n",
              "</table>\n",
              "</div>"
            ],
            "text/plain": [
              "          alcohol  malic_acid  ...      proline      target\n",
              "count  178.000000  178.000000  ...   178.000000  178.000000\n",
              "mean    13.000618    2.336348  ...   746.893258    0.938202\n",
              "std      0.811827    1.117146  ...   314.907474    0.775035\n",
              "min     11.030000    0.740000  ...   278.000000    0.000000\n",
              "25%     12.362500    1.602500  ...   500.500000    0.000000\n",
              "50%     13.050000    1.865000  ...   673.500000    1.000000\n",
              "75%     13.677500    3.082500  ...   985.000000    2.000000\n",
              "max     14.830000    5.800000  ...  1680.000000    2.000000\n",
              "\n",
              "[8 rows x 14 columns]"
            ]
          },
          "metadata": {
            "tags": []
          },
          "execution_count": 22
        }
      ]
    },
    {
      "cell_type": "code",
      "metadata": {
        "id": "UhqVEwoAcyhA",
        "colab_type": "code",
        "colab": {}
      },
      "source": [
        "wine_X_train, wine_X_test, wine_Y_train, wine_Y_test = train_test_split(wine.data, wine.target, test_size = 0.3, random_state=1)"
      ],
      "execution_count": 0,
      "outputs": []
    },
    {
      "cell_type": "code",
      "metadata": {
        "id": "NgtCpo8OdMz6",
        "colab_type": "code",
        "colab": {
          "base_uri": "https://localhost:8080/",
          "height": 35
        },
        "outputId": "326bc32a-9156-46af-fc1c-e015378b4998"
      },
      "source": [
        "wine_X_train.shape, wine_Y_train.shape"
      ],
      "execution_count": 24,
      "outputs": [
        {
          "output_type": "execute_result",
          "data": {
            "text/plain": [
              "((124, 13), (124,))"
            ]
          },
          "metadata": {
            "tags": []
          },
          "execution_count": 24
        }
      ]
    },
    {
      "cell_type": "code",
      "metadata": {
        "id": "ZvnLYxzFdWl2",
        "colab_type": "code",
        "colab": {
          "base_uri": "https://localhost:8080/",
          "height": 35
        },
        "outputId": "d58e1a70-3a0e-4fb5-d8b0-6d5ecab7deef"
      },
      "source": [
        "wine_X_test.shape, wine_Y_test.shape"
      ],
      "execution_count": 25,
      "outputs": [
        {
          "output_type": "execute_result",
          "data": {
            "text/plain": [
              "((54, 13), (54,))"
            ]
          },
          "metadata": {
            "tags": []
          },
          "execution_count": 25
        }
      ]
    },
    {
      "cell_type": "code",
      "metadata": {
        "id": "oKurlbyDddf-",
        "colab_type": "code",
        "colab": {
          "base_uri": "https://localhost:8080/",
          "height": 69
        },
        "outputId": "825758e9-14af-457a-e795-20bb86f6799d"
      },
      "source": [
        "cl3 = KNeighborsClassifier(n_neighbors=3)\n",
        "cl3.fit(wine_X_train, wine_Y_train)\n",
        "target3 = cl3.predict(wine_X_test)\n",
        "len(target3), target3"
      ],
      "execution_count": 27,
      "outputs": [
        {
          "output_type": "execute_result",
          "data": {
            "text/plain": [
              "(54, array([0, 1, 2, 1, 0, 1, 2, 0, 2, 1, 0, 2, 1, 0, 2, 1, 1, 0, 1, 0, 0, 1,\n",
              "        2, 0, 0, 2, 0, 0, 0, 1, 1, 1, 1, 0, 2, 1, 1, 2, 1, 0, 0, 1, 2, 0,\n",
              "        0, 0, 0, 0, 0, 0, 1, 2, 2, 0]))"
            ]
          },
          "metadata": {
            "tags": []
          },
          "execution_count": 27
        }
      ]
    },
    {
      "cell_type": "code",
      "metadata": {
        "id": "ypZAhFyZd5tT",
        "colab_type": "code",
        "colab": {
          "base_uri": "https://localhost:8080/",
          "height": 69
        },
        "outputId": "7c276c8e-b7b0-44d5-cd84-33dd751e300a"
      },
      "source": [
        "cl5 = KNeighborsClassifier(n_neighbors=5)\n",
        "cl5.fit(wine_X_train, wine_Y_train)\n",
        "target5 = cl5.predict(wine_X_test)\n",
        "len(target5), target5"
      ],
      "execution_count": 28,
      "outputs": [
        {
          "output_type": "execute_result",
          "data": {
            "text/plain": [
              "(54, array([1, 1, 2, 2, 0, 1, 2, 0, 2, 1, 0, 2, 1, 0, 2, 1, 1, 0, 1, 0, 0, 1,\n",
              "        2, 0, 0, 1, 0, 0, 0, 1, 1, 1, 1, 0, 2, 1, 1, 2, 1, 0, 0, 1, 2, 0,\n",
              "        0, 0, 0, 0, 0, 0, 1, 2, 2, 0]))"
            ]
          },
          "metadata": {
            "tags": []
          },
          "execution_count": 28
        }
      ]
    },
    {
      "cell_type": "code",
      "metadata": {
        "id": "PK5yVu6neBja",
        "colab_type": "code",
        "colab": {
          "base_uri": "https://localhost:8080/",
          "height": 35
        },
        "outputId": "7573f530-277e-419b-cb17-ada9bfc0d05e"
      },
      "source": [
        "accuracy_score(wine_Y_test, target3)"
      ],
      "execution_count": 29,
      "outputs": [
        {
          "output_type": "execute_result",
          "data": {
            "text/plain": [
              "0.7407407407407407"
            ]
          },
          "metadata": {
            "tags": []
          },
          "execution_count": 29
        }
      ]
    },
    {
      "cell_type": "code",
      "metadata": {
        "id": "P_pTKC4deIJr",
        "colab_type": "code",
        "colab": {
          "base_uri": "https://localhost:8080/",
          "height": 35
        },
        "outputId": "b1838fd0-cb08-4aaf-a8a9-499380cc5b74"
      },
      "source": [
        "accuracy_score(wine_Y_test, target5)"
      ],
      "execution_count": 30,
      "outputs": [
        {
          "output_type": "execute_result",
          "data": {
            "text/plain": [
              "0.7037037037037037"
            ]
          },
          "metadata": {
            "tags": []
          },
          "execution_count": 30
        }
      ]
    },
    {
      "cell_type": "code",
      "metadata": {
        "id": "1OhZJniMeMPK",
        "colab_type": "code",
        "colab": {
          "base_uri": "https://localhost:8080/",
          "height": 52
        },
        "outputId": "c1eadcbd-d4e4-4082-b9bc-e07834457b43"
      },
      "source": [
        "def convert_target_to_binary(array:np.ndarray, target:int) -> np.ndarray:\n",
        "    res = [1 if x == target else 0 for x in array]\n",
        "    return res\n",
        "bin_wine_Y_test = convert_target_to_binary(wine_Y_test, 2)\n",
        "bin_target3=convert_target_to_binary(target3, 2)\n",
        "bin_target5=convert_target_to_binary(target5, 2)\n",
        "confusion_matrix(bin_wine_Y_test,bin_target3, labels=[0,1])"
      ],
      "execution_count": 32,
      "outputs": [
        {
          "output_type": "execute_result",
          "data": {
            "text/plain": [
              "array([[36,  6],\n",
              "       [ 6,  6]])"
            ]
          },
          "metadata": {
            "tags": []
          },
          "execution_count": 32
        }
      ]
    },
    {
      "cell_type": "code",
      "metadata": {
        "id": "s6b2CWKafU0W",
        "colab_type": "code",
        "colab": {
          "base_uri": "https://localhost:8080/",
          "height": 35
        },
        "outputId": "755141b9-6fb3-41b9-e65d-9b4f19f0f21e"
      },
      "source": [
        "tn, fp, fn, tp = confusion_matrix(bin_wine_Y_test, bin_target3).ravel()\n",
        "tn, fp, fn, tp"
      ],
      "execution_count": 33,
      "outputs": [
        {
          "output_type": "execute_result",
          "data": {
            "text/plain": [
              "(36, 6, 6, 6)"
            ]
          },
          "metadata": {
            "tags": []
          },
          "execution_count": 33
        }
      ]
    },
    {
      "cell_type": "code",
      "metadata": {
        "id": "Z9G_Zsjufhpw",
        "colab_type": "code",
        "colab": {
          "base_uri": "https://localhost:8080/",
          "height": 303
        },
        "outputId": "13bbba8f-52fd-41b4-dd68-dae22ad94e7a"
      },
      "source": [
        "plot_confusion_matrix(cl3, wine_X_test, wine_Y_test, display_labels = wine.target_names, cmap = plt.cm.Greens)"
      ],
      "execution_count": 34,
      "outputs": [
        {
          "output_type": "execute_result",
          "data": {
            "text/plain": [
              "<sklearn.metrics._plot.confusion_matrix.ConfusionMatrixDisplay at 0x7f9a4a215630>"
            ]
          },
          "metadata": {
            "tags": []
          },
          "execution_count": 34
        },
        {
          "output_type": "display_data",
          "data": {
            "image/png": "[encoded data removed]",
            "text/plain": [
              "<Figure size 432x288 with 2 Axes>"
            ]
          },
          "metadata": {
            "tags": []
          }
        }
      ]
    },
    {
      "cell_type": "code",
      "metadata": {
        "id": "gQ9cLZt1fy7P",
        "colab_type": "code",
        "colab": {
          "base_uri": "https://localhost:8080/",
          "height": 303
        },
        "outputId": "f0856a66-634b-490d-96ff-f069168a3842"
      },
      "source": [
        "plot_confusion_matrix(cl3, wine_X_test, wine_Y_test, display_labels = wine.target_names, cmap = plt.cm.Greens, normalize='true')"
      ],
      "execution_count": 35,
      "outputs": [
        {
          "output_type": "execute_result",
          "data": {
            "text/plain": [
              "<sklearn.metrics._plot.confusion_matrix.ConfusionMatrixDisplay at 0x7f9a4a15db00>"
            ]
          },
          "metadata": {
            "tags": []
          },
          "execution_count": 35
        },
        {
          "output_type": "display_data",
          "data": {
            "image/png": "[encoded data removed]",
            "text/plain": [
              "<Figure size 432x288 with 2 Axes>"
            ]
          },
          "metadata": {
            "tags": []
          }
        }
      ]
    },
    {
      "cell_type": "code",
      "metadata": {
        "id": "bxaPWPXwf_Fe",
        "colab_type": "code",
        "colab": {
          "base_uri": "https://localhost:8080/",
          "height": 376
        },
        "outputId": "e958a8a0-c6d2-4ae0-df16-63c68c54b242"
      },
      "source": [
        "fig, ax=plt.subplots(1, 2, sharex='col', sharey = 'row', figsize = (15,5))\n",
        "\n",
        "plot_confusion_matrix(cl3, wine_X_test, wine_Y_test, display_labels=wine.target_names, cmap=plt.cm.Greens, normalize='true', ax=ax[0])\n",
        "\n",
        "plot_confusion_matrix(cl5, wine_X_test, wine_Y_test, display_labels=wine.target_names, cmap=plt.cm.Greens, normalize='true', ax=ax[1])\n",
        "\n",
        "fig.suptitle(\"Матрицы ошибок\")\n",
        "ax[0].title.set_text('K=2')\n",
        "ax[1].title.set_text('K=10')"
      ],
      "execution_count": 37,
      "outputs": [
        {
          "output_type": "display_data",
          "data": {
            "image/png": "[encoded data removed]",
            "text/plain": [
              "<Figure size 1080x360 with 4 Axes>"
            ]
          },
          "metadata": {
            "tags": []
          }
        }
      ]
    },
    {
      "cell_type": "code",
      "metadata": {
        "id": "PYZbCrtPhPd_",
        "colab_type": "code",
        "colab": {
          "base_uri": "https://localhost:8080/",
          "height": 35
        },
        "outputId": "4c44d4f2-5d6c-4aac-d0ea-f0565e6d3a47"
      },
      "source": [
        "precision_score(bin_wine_Y_test, bin_target3), recall_score(bin_wine_Y_test, bin_target3)"
      ],
      "execution_count": 38,
      "outputs": [
        {
          "output_type": "execute_result",
          "data": {
            "text/plain": [
              "(0.5, 0.5)"
            ]
          },
          "metadata": {
            "tags": []
          },
          "execution_count": 38
        }
      ]
    },
    {
      "cell_type": "code",
      "metadata": {
        "id": "LuJpbk-Nhc7E",
        "colab_type": "code",
        "colab": {
          "base_uri": "https://localhost:8080/",
          "height": 35
        },
        "outputId": "4afc2b27-4504-4281-b6a3-38d892f6610b"
      },
      "source": [
        "precision_score(bin_wine_Y_test, bin_target5), recall_score(bin_wine_Y_test, bin_target5)"
      ],
      "execution_count": 39,
      "outputs": [
        {
          "output_type": "execute_result",
          "data": {
            "text/plain": [
              "(0.4166666666666667, 0.4166666666666667)"
            ]
          },
          "metadata": {
            "tags": []
          },
          "execution_count": 39
        }
      ]
    },
    {
      "cell_type": "code",
      "metadata": {
        "id": "x2VQkQtahjEz",
        "colab_type": "code",
        "colab": {
          "base_uri": "https://localhost:8080/",
          "height": 35
        },
        "outputId": "c96eeebb-1954-4837-8e21-420f62f2e8fd"
      },
      "source": [
        "precision_score(wine_Y_test, target3, average = 'micro')"
      ],
      "execution_count": 40,
      "outputs": [
        {
          "output_type": "execute_result",
          "data": {
            "text/plain": [
              "0.7407407407407407"
            ]
          },
          "metadata": {
            "tags": []
          },
          "execution_count": 40
        }
      ]
    },
    {
      "cell_type": "code",
      "metadata": {
        "id": "hg2lNQaXhrww",
        "colab_type": "code",
        "colab": {
          "base_uri": "https://localhost:8080/",
          "height": 35
        },
        "outputId": "586c175f-bd12-4d8b-8855-c8c399789959"
      },
      "source": [
        "precision_score(wine_Y_test, target3, average = 'macro')"
      ],
      "execution_count": 42,
      "outputs": [
        {
          "output_type": "execute_result",
          "data": {
            "text/plain": [
              "0.6990740740740741"
            ]
          },
          "metadata": {
            "tags": []
          },
          "execution_count": 42
        }
      ]
    },
    {
      "cell_type": "code",
      "metadata": {
        "id": "kCDPec6LhySN",
        "colab_type": "code",
        "colab": {
          "base_uri": "https://localhost:8080/",
          "height": 35
        },
        "outputId": "b1326d4c-02a3-47f2-9ec9-268e928202e4"
      },
      "source": [
        "precision_score(wine_Y_test, target3, average = 'weighted')"
      ],
      "execution_count": 43,
      "outputs": [
        {
          "output_type": "execute_result",
          "data": {
            "text/plain": [
              "0.7379115226337448"
            ]
          },
          "metadata": {
            "tags": []
          },
          "execution_count": 43
        }
      ]
    },
    {
      "cell_type": "code",
      "metadata": {
        "id": "UZqkx6mGiE32",
        "colab_type": "code",
        "colab": {
          "base_uri": "https://localhost:8080/",
          "height": 329
        },
        "outputId": "4eaa50d2-9395-4077-a945-54adef037de3"
      },
      "source": [
        "classification_report(wine_Y_test, target3, target_names = wine.target_names,output_dict=True)"
      ],
      "execution_count": 45,
      "outputs": [
        {
          "output_type": "execute_result",
          "data": {
            "text/plain": [
              "{'accuracy': 0.7407407407407407,\n",
              " 'class_0': {'f1-score': 0.8936170212765957,\n",
              "  'precision': 0.875,\n",
              "  'recall': 0.9130434782608695,\n",
              "  'support': 23},\n",
              " 'class_1': {'f1-score': 0.7027027027027027,\n",
              "  'precision': 0.7222222222222222,\n",
              "  'recall': 0.6842105263157895,\n",
              "  'support': 19},\n",
              " 'class_2': {'f1-score': 0.5, 'precision': 0.5, 'recall': 0.5, 'support': 12},\n",
              " 'macro avg': {'f1-score': 0.6987732413264328,\n",
              "  'precision': 0.6990740740740741,\n",
              "  'recall': 0.6990846681922197,\n",
              "  'support': 54},\n",
              " 'weighted avg': {'f1-score': 0.7389730155687603,\n",
              "  'precision': 0.7379115226337448,\n",
              "  'recall': 0.7407407407407407,\n",
              "  'support': 54}}"
            ]
          },
          "metadata": {
            "tags": []
          },
          "execution_count": 45
        }
      ]
    },
    {
      "cell_type": "code",
      "metadata": {
        "id": "trnCsNKyigs1",
        "colab_type": "code",
        "colab": {
          "base_uri": "https://localhost:8080/",
          "height": 69
        },
        "outputId": "921ed7f1-35f7-4db7-a9b0-21c65aae090b"
      },
      "source": [
        "fpr, tpr, thresholds = roc_curve(bin_wine_Y_test, bin_target3, pos_label=1)\n",
        "fpr, tpr, thresholds"
      ],
      "execution_count": 46,
      "outputs": [
        {
          "output_type": "execute_result",
          "data": {
            "text/plain": [
              "(array([0.        , 0.14285714, 1.        ]),\n",
              " array([0. , 0.5, 1. ]),\n",
              " array([2, 1, 0]))"
            ]
          },
          "metadata": {
            "tags": []
          },
          "execution_count": 46
        }
      ]
    },
    {
      "cell_type": "code",
      "metadata": {
        "id": "S-HOHzOMi3hp",
        "colab_type": "code",
        "colab": {
          "base_uri": "https://localhost:8080/",
          "height": 585
        },
        "outputId": "475f0503-f973-4920-988c-e024617e63d9"
      },
      "source": [
        "def draw_roc_curve(y_true, y_score, pos_label, average):\n",
        "    fpr, tpr, thresholds = roc_curve(y_true, y_score, pos_label)\n",
        "    roc_auc_value = roc_auc_score(y_true, y_score, average=average)\n",
        "    plt.figure()\n",
        "    lw=2\n",
        "    plt.plot(fpr, tpr, color = 'orange', lw=lw, label = 'ROC curve (area = %0.2f' % roc_auc_value)\n",
        "    plt.plot([0, 1], [0, 1], color = 'red', lw=lw, linestyle='--')\n",
        "    plt.xlim([0.0, 1.0])\n",
        "    plt.ylim([0.0, 1.05])\n",
        "    plt.xlabel('False Positive Rate')\n",
        "    plt.ylabel('True Positive Rate')\n",
        "    plt.title('Receiver operating characteristic example')\n",
        "    plt.legend(loc='lower right')\n",
        "    plt.show()\n",
        "\n",
        "draw_roc_curve(bin_wine_Y_test, bin_target3, pos_label=1, average = 'micro')\n",
        "draw_roc_curve(bin_wine_Y_test, bin_target5, pos_label=1, average = 'micro')"
      ],
      "execution_count": 51,
      "outputs": [
        {
          "output_type": "display_data",
          "data": {
            "image/png": "[encoded data removed]",
            "text/plain": [
              "<Figure size 432x288 with 1 Axes>"
            ]
          },
          "metadata": {
            "tags": []
          }
        },
        {
          "output_type": "display_data",
          "data": {
            "image/png": "[encoded data removed]",
            "text/plain": [
              "<Figure size 432x288 with 1 Axes>"
            ]
          },
          "metadata": {
            "tags": []
          }
        }
      ]
    },
    {
      "cell_type": "code",
      "metadata": {
        "id": "OwA1uuHDmg6a",
        "colab_type": "code",
        "colab": {
          "base_uri": "https://localhost:8080/",
          "height": 69
        },
        "outputId": "04a5c64e-c139-49ae-ff53-9f2b2ba3a2a8"
      },
      "source": [
        "wine_cross = cross_val_score(KNeighborsClassifier(n_neighbors=2), wine.data, wine.target, cv = 11)\n",
        "wine_cross"
      ],
      "execution_count": 52,
      "outputs": [
        {
          "output_type": "execute_result",
          "data": {
            "text/plain": [
              "array([0.58823529, 0.64705882, 0.6875    , 0.5625    , 0.5625    ,\n",
              "       0.625     , 0.8125    , 0.6875    , 0.8125    , 0.75      ,\n",
              "       0.75      ])"
            ]
          },
          "metadata": {
            "tags": []
          },
          "execution_count": 52
        }
      ]
    },
    {
      "cell_type": "code",
      "metadata": {
        "id": "6tqbkhewss94",
        "colab_type": "code",
        "colab": {
          "base_uri": "https://localhost:8080/",
          "height": 35
        },
        "outputId": "3c916a39-0db8-47c4-c7ad-1b4bb0f474f9"
      },
      "source": [
        "np.mean(wine_cross)"
      ],
      "execution_count": 53,
      "outputs": [
        {
          "output_type": "execute_result",
          "data": {
            "text/plain": [
              "0.68048128342246"
            ]
          },
          "metadata": {
            "tags": []
          },
          "execution_count": 53
        }
      ]
    },
    {
      "cell_type": "code",
      "metadata": {
        "id": "-iabVLNsswjM",
        "colab_type": "code",
        "colab": {
          "base_uri": "https://localhost:8080/",
          "height": 156
        },
        "outputId": "99d5f0f8-42c3-49a0-9275-dbb89359dcf2"
      },
      "source": [
        "wining = {\n",
        "    'precesion': 'precision_weighted', \n",
        "    'recall': 'recall_weighted',\n",
        "    'f1': 'f1_weighted'\n",
        "    }\n",
        "wine_cross = cross_validate(KNeighborsClassifier(n_neighbors=2), wine.data, wine.target, scoring=wining, cv=3, return_train_score=True)\n",
        "wine_cross"
      ],
      "execution_count": 55,
      "outputs": [
        {
          "output_type": "execute_result",
          "data": {
            "text/plain": [
              "{'fit_time': array([0.00110579, 0.00059104, 0.00049162]),\n",
              " 'score_time': array([0.00671053, 0.00433683, 0.00383377]),\n",
              " 'test_f1': array([0.51069094, 0.6198816 , 0.6798559 ]),\n",
              " 'test_precesion': array([0.48984127, 0.62317561, 0.70585516]),\n",
              " 'test_recall': array([0.56666667, 0.6440678 , 0.72881356]),\n",
              " 'train_f1': array([0.89415947, 0.8703245 , 0.8181316 ]),\n",
              " 'train_precesion': array([0.91000807, 0.8877454 , 0.85825075]),\n",
              " 'train_recall': array([0.89830508, 0.87394958, 0.83193277])}"
            ]
          },
          "metadata": {
            "tags": []
          },
          "execution_count": 55
        }
      ]
    },
    {
      "cell_type": "code",
      "metadata": {
        "id": "wul1mLuhtfGd",
        "colab_type": "code",
        "colab": {
          "base_uri": "https://localhost:8080/",
          "height": 52
        },
        "outputId": "f1cc18ea-80a1-4ca0-d348-65b785a5dcd1"
      },
      "source": [
        "n_range = np.array(range(5, 30 ,1))\n",
        "tuned_param = [{'n_neighbors': n_range}]\n",
        "tuned_param"
      ],
      "execution_count": 56,
      "outputs": [
        {
          "output_type": "execute_result",
          "data": {
            "text/plain": [
              "[{'n_neighbors': array([ 5,  6,  7,  8,  9, 10, 11, 12, 13, 14, 15, 16, 17, 18, 19, 20, 21,\n",
              "         22, 23, 24, 25, 26, 27, 28, 29])}]"
            ]
          },
          "metadata": {
            "tags": []
          },
          "execution_count": 56
        }
      ]
    },
    {
      "cell_type": "code",
      "metadata": {
        "id": "YP_abCdftwt_",
        "colab_type": "code",
        "colab": {
          "base_uri": "https://localhost:8080/",
          "height": 52
        },
        "outputId": "b8b9c0d5-94ac-4c48-a6bc-8509e7d6049d"
      },
      "source": [
        "%%time\n",
        "classific_gs = GridSearchCV(KNeighborsClassifier(),tuned_param, cv=5, scoring='accuracy')\n",
        "classific_gs.fit(wine_X_train, wine_Y_train)"
      ],
      "execution_count": 57,
      "outputs": [
        {
          "output_type": "stream",
          "text": [
            "CPU times: user 277 ms, sys: 1.34 ms, total: 278 ms\n",
            "Wall time: 279 ms\n"
          ],
          "name": "stdout"
        }
      ]
    },
    {
      "cell_type": "code",
      "metadata": {
        "id": "nZVBKX6fuQlx",
        "colab_type": "code",
        "colab": {
          "base_uri": "https://localhost:8080/",
          "height": 1000
        },
        "outputId": "ded325d2-749c-4e13-da87-ffb6348075ff"
      },
      "source": [
        "classific_gs.cv_results_"
      ],
      "execution_count": 58,
      "outputs": [
        {
          "output_type": "execute_result",
          "data": {
            "text/plain": [
              "{'mean_fit_time': array([0.00050635, 0.00039325, 0.000421  , 0.00041065, 0.00041933,\n",
              "        0.00040789, 0.00038476, 0.00041876, 0.00041499, 0.00041833,\n",
              "        0.00041099, 0.00039482, 0.00040603, 0.00039215, 0.00039759,\n",
              "        0.00041804, 0.0004149 , 0.00041809, 0.00040574, 0.00040874,\n",
              "        0.00038857, 0.00039635, 0.00040355, 0.0003984 , 0.00041142]),\n",
              " 'mean_score_time': array([0.00179543, 0.00140705, 0.00142345, 0.00142317, 0.00144773,\n",
              "        0.00141902, 0.0013968 , 0.00138464, 0.00145521, 0.00149326,\n",
              "        0.00141726, 0.00140929, 0.00138726, 0.00143409, 0.00151563,\n",
              "        0.00157661, 0.00144815, 0.00150456, 0.00145593, 0.00148907,\n",
              "        0.00141406, 0.00148759, 0.0014801 , 0.00142283, 0.0014554 ]),\n",
              " 'mean_test_score': array([0.67666667, 0.725     , 0.66833333, 0.676     , 0.69266667,\n",
              "        0.67666667, 0.67666667, 0.70033333, 0.70933333, 0.685     ,\n",
              "        0.69333333, 0.71766667, 0.726     , 0.72633333, 0.726     ,\n",
              "        0.734     , 0.734     , 0.75      , 0.726     , 0.718     ,\n",
              "        0.71733333, 0.73366667, 0.709     , 0.71766667, 0.709     ]),\n",
              " 'param_n_neighbors': masked_array(data=[5, 6, 7, 8, 9, 10, 11, 12, 13, 14, 15, 16, 17, 18, 19,\n",
              "                    20, 21, 22, 23, 24, 25, 26, 27, 28, 29],\n",
              "              mask=[False, False, False, False, False, False, False, False,\n",
              "                    False, False, False, False, False, False, False, False,\n",
              "                    False, False, False, False, False, False, False, False,\n",
              "                    False],\n",
              "        fill_value='?',\n",
              "             dtype=object),\n",
              " 'params': [{'n_neighbors': 5},\n",
              "  {'n_neighbors': 6},\n",
              "  {'n_neighbors': 7},\n",
              "  {'n_neighbors': 8},\n",
              "  {'n_neighbors': 9},\n",
              "  {'n_neighbors': 10},\n",
              "  {'n_neighbors': 11},\n",
              "  {'n_neighbors': 12},\n",
              "  {'n_neighbors': 13},\n",
              "  {'n_neighbors': 14},\n",
              "  {'n_neighbors': 15},\n",
              "  {'n_neighbors': 16},\n",
              "  {'n_neighbors': 17},\n",
              "  {'n_neighbors': 18},\n",
              "  {'n_neighbors': 19},\n",
              "  {'n_neighbors': 20},\n",
              "  {'n_neighbors': 21},\n",
              "  {'n_neighbors': 22},\n",
              "  {'n_neighbors': 23},\n",
              "  {'n_neighbors': 24},\n",
              "  {'n_neighbors': 25},\n",
              "  {'n_neighbors': 26},\n",
              "  {'n_neighbors': 27},\n",
              "  {'n_neighbors': 28},\n",
              "  {'n_neighbors': 29}],\n",
              " 'rank_test_score': array([21,  9, 25, 24, 19, 22, 22, 17, 14, 20, 18, 11,  6,  5,  6,  2,  2,\n",
              "         1,  6, 10, 13,  4, 15, 11, 15], dtype=int32),\n",
              " 'split0_test_score': array([0.64, 0.64, 0.6 , 0.6 , 0.64, 0.64, 0.64, 0.64, 0.64, 0.6 , 0.6 ,\n",
              "        0.76, 0.76, 0.72, 0.68, 0.76, 0.76, 0.76, 0.72, 0.72, 0.76, 0.76,\n",
              "        0.76, 0.76, 0.76]),\n",
              " 'split1_test_score': array([0.72, 0.8 , 0.72, 0.8 , 0.76, 0.64, 0.68, 0.76, 0.72, 0.72, 0.76,\n",
              "        0.8 , 0.8 , 0.8 , 0.8 , 0.8 , 0.8 , 0.84, 0.8 , 0.76, 0.8 , 0.84,\n",
              "        0.8 , 0.76, 0.8 ]),\n",
              " 'split2_test_score': array([0.76, 0.8 , 0.76, 0.72, 0.76, 0.76, 0.76, 0.84, 0.8 , 0.84, 0.8 ,\n",
              "        0.68, 0.68, 0.68, 0.76, 0.72, 0.72, 0.72, 0.72, 0.72, 0.72, 0.72,\n",
              "        0.72, 0.72, 0.72]),\n",
              " 'split3_test_score': array([0.68, 0.76, 0.72, 0.76, 0.72, 0.76, 0.72, 0.72, 0.72, 0.64, 0.64,\n",
              "        0.64, 0.64, 0.64, 0.64, 0.64, 0.64, 0.68, 0.64, 0.64, 0.64, 0.64,\n",
              "        0.64, 0.64, 0.64]),\n",
              " 'split4_test_score': array([0.58333333, 0.625     , 0.54166667, 0.5       , 0.58333333,\n",
              "        0.58333333, 0.58333333, 0.54166667, 0.66666667, 0.625     ,\n",
              "        0.66666667, 0.70833333, 0.75      , 0.79166667, 0.75      ,\n",
              "        0.75      , 0.75      , 0.75      , 0.75      , 0.75      ,\n",
              "        0.66666667, 0.70833333, 0.625     , 0.70833333, 0.625     ]),\n",
              " 'std_fit_time': array([1.21106350e-04, 2.54974598e-05, 1.85129532e-05, 1.39694571e-05,\n",
              "        1.44265110e-05, 1.98752454e-05, 7.62104531e-06, 2.29564285e-05,\n",
              "        1.91131418e-05, 9.13936504e-06, 1.69571768e-05, 9.22528952e-06,\n",
              "        1.15646529e-05, 2.51630000e-05, 2.56889132e-05, 7.29358246e-06,\n",
              "        2.03232226e-05, 1.42402769e-05, 2.38882567e-05, 3.82453722e-05,\n",
              "        2.44870622e-05, 6.86976565e-06, 2.31409029e-05, 8.71973377e-06,\n",
              "        1.78113838e-05]),\n",
              " 'std_score_time': array([4.49951830e-04, 3.88048779e-05, 8.36175256e-05, 1.16050977e-04,\n",
              "        2.61741472e-05, 4.61854143e-05, 3.85326322e-05, 5.20745912e-05,\n",
              "        6.67613914e-05, 5.92439035e-05, 1.50522016e-05, 2.03123675e-05,\n",
              "        4.03339412e-05, 7.49995276e-05, 1.34634699e-04, 5.55377951e-05,\n",
              "        5.27818027e-05, 4.51324796e-05, 7.27880013e-05, 8.00525094e-05,\n",
              "        2.21854861e-05, 8.64726274e-05, 4.24350244e-05, 3.05396983e-05,\n",
              "        3.20357217e-05]),\n",
              " 'std_test_score': array([0.06146363, 0.0770714 , 0.08301272, 0.1105622 , 0.07006029,\n",
              "        0.07111806, 0.06146363, 0.10224372, 0.05491003, 0.08729261,\n",
              "        0.07495184, 0.05676071, 0.05782733, 0.0621861 , 0.05782733,\n",
              "        0.05351635, 0.05351635, 0.05291503, 0.052     , 0.04214262,\n",
              "        0.05866667, 0.06573009, 0.06755738, 0.04406561, 0.06755738])}"
            ]
          },
          "metadata": {
            "tags": []
          },
          "execution_count": 58
        }
      ]
    },
    {
      "cell_type": "code",
      "metadata": {
        "id": "zkJ_vk8YuZsM",
        "colab_type": "code",
        "colab": {
          "base_uri": "https://localhost:8080/",
          "height": 69
        },
        "outputId": "ecffb744-b03b-440f-ac4d-b123fd342943"
      },
      "source": [
        "classific_gs.best_estimator_"
      ],
      "execution_count": 59,
      "outputs": [
        {
          "output_type": "execute_result",
          "data": {
            "text/plain": [
              "KNeighborsClassifier(algorithm='auto', leaf_size=30, metric='minkowski',\n",
              "                     metric_params=None, n_jobs=None, n_neighbors=22, p=2,\n",
              "                     weights='uniform')"
            ]
          },
          "metadata": {
            "tags": []
          },
          "execution_count": 59
        }
      ]
    },
    {
      "cell_type": "code",
      "metadata": {
        "id": "fUpFEVutudqX",
        "colab_type": "code",
        "colab": {
          "base_uri": "https://localhost:8080/",
          "height": 35
        },
        "outputId": "0598ad61-abb8-4045-d17f-c74a0e7e69c5"
      },
      "source": [
        "classific_gs.best_score_"
      ],
      "execution_count": 60,
      "outputs": [
        {
          "output_type": "execute_result",
          "data": {
            "text/plain": [
              "0.7500000000000001"
            ]
          },
          "metadata": {
            "tags": []
          },
          "execution_count": 60
        }
      ]
    },
    {
      "cell_type": "code",
      "metadata": {
        "id": "mP37ujp9uhle",
        "colab_type": "code",
        "colab": {
          "base_uri": "https://localhost:8080/",
          "height": 35
        },
        "outputId": "4050c8e1-f2bd-4d10-fa87-043e642d4241"
      },
      "source": [
        "classific_gs.best_params_"
      ],
      "execution_count": 62,
      "outputs": [
        {
          "output_type": "execute_result",
          "data": {
            "text/plain": [
              "{'n_neighbors': 22}"
            ]
          },
          "metadata": {
            "tags": []
          },
          "execution_count": 62
        }
      ]
    }
  ]
}